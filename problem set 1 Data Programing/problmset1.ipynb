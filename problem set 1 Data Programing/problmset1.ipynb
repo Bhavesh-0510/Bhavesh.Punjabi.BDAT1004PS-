{
 "cells": [
  {
   "cell_type": "markdown",
   "id": "f519f216",
   "metadata": {},
   "source": [
    "# Q6. you can turn a word into pig-latin using the following two rules : if the word starts with a consonant, move that letter to the end and append 'ay'.if the words start with a vowel, simply append 'way' to the end of the word.\n"
   ]
  },
  {
   "cell_type": "code",
   "execution_count": 1,
   "id": "3489eddb",
   "metadata": {},
   "outputs": [
    {
     "name": "stdout",
     "output_type": "stream",
     "text": [
      "Enter a word: Happy\n",
      "H is a consonant\n",
      "appyhay\n"
     ]
    }
   ],
   "source": [
    "n='ay'\n",
    "u='way'\n",
    "consonant = ('B','C','D','F','G','H','J','K','L','M','N','P','Q','R','S','T','Y','V','X','Z')\n",
    "vowel = ('A','E','I','O','U')\n",
    "\n",
    "word = input('Enter a word: ')\n",
    "letter = word[0]\n",
    "letter = str(letter)\n",
    "letter=letter.upper()\n",
    "if letter in consonant:\n",
    "    print(letter,'is a consonant')\n",
    "    length = len(word)\n",
    "    remove_letter = word[1:length]\n",
    "    pig=remove_letter+letter+n\n",
    "    print(pig.lower())\n",
    "elif letter in vowel:\n",
    "    print(letter,'is a vowel')\n",
    "    pig=word+u\n",
    "    print(pig.lower())\n"
   ]
  },
  {
   "cell_type": "markdown",
   "id": "4a9f6508",
   "metadata": {},
   "source": [
    "   # Q7. File bloodtype1.txt records blood-types of patients (A,B,AB,O OR OO)at a clinic write a function bldcount() that reads the file with name and reports (i.e prints) how many patients there are in each bloodtype. "
   ]
  },
  {
   "cell_type": "code",
   "execution_count": 2,
   "id": "a9940b19",
   "metadata": {},
   "outputs": [
    {
     "name": "stdout",
     "output_type": "stream",
     "text": [
      "There are 15 patients of blood type A.\n",
      "There is one patient of blood type B.\n",
      "There are 13 patients of blood type AB.\n",
      "There are 15 patients of blood type O.\n",
      "There are no patients of blood type OO.\n"
     ]
    }
   ],
   "source": [
    "def bldcount(bloodtype1):\n",
    "    bloodf=open(bloodtype1, 'r')\n",
    "    content= bloodf.read()\n",
    "    bloodf.close()\n",
    "    content=content.split()\n",
    "    bloodtype = ['A','B','AB','O','OO']\n",
    "    for i in bloodtype:\n",
    "        if content.count(i)==0:\n",
    "            print('There are no patients of blood type',i+'.')\n",
    "        elif content.count(i)==1:\n",
    "            print('There is one patient of blood type',i+'.')\n",
    "        else:\n",
    "            print('There are',content.count(i),'patients of blood type', i+'.')\n",
    "            \n",
    "            \n",
    "bldcount('bloodtype1.txt')"
   ]
  },
  {
   "cell_type": "markdown",
   "id": "4f4ed382",
   "metadata": {},
   "source": [
    "# Q8 Write a function curconv() that takes as input: 1.a currency represented using a string 2. an amount and then converts and returns the amount in US dollars."
   ]
  },
  {
   "cell_type": "code",
   "execution_count": 3,
   "id": "a0e34489",
   "metadata": {},
   "outputs": [
    {
     "data": {
      "text/plain": [
       "1.241401"
      ]
     },
     "execution_count": 3,
     "metadata": {},
     "output_type": "execute_result"
    }
   ],
   "source": [
    "def curconv(currency, amount):\n",
    "    \n",
    "    Currenciesf = open('currencies.txt', 'r')  #currencies.txt contians different types of currencies you can add more \n",
    "    CurrenciesfContent = Currenciesf.readlines()\n",
    "    \n",
    "    Currenciesf.close()\n",
    "    for lines in CurrenciesfContent:\n",
    "        if currency == lines.split()[0]:\n",
    "            return float(lines.split()[1])*amount\n",
    "        \n",
    "\n",
    "curconv (\"JPY\",100)\n",
    "#curconv (\"EUR\",100)\n",
    " #output 122.96544\n",
    "#curconv (\"AUD\",100)\n",
    " #output 103.45157"
   ]
  },
  {
   "cell_type": "markdown",
   "id": "266d2ce2",
   "metadata": {},
   "source": [
    "# Q 9 Each of the following will cause an exception (an error). Identify what type of exception each will cause.\n",
    "\n",
    "a) Trying to add incompatible variables, as in adding 6 + 'a'\n",
    "  \n",
    "  TypeError "
   ]
  },
  {
   "cell_type": "code",
   "execution_count": 4,
   "id": "1cf5a944",
   "metadata": {},
   "outputs": [
    {
     "ename": "TypeError",
     "evalue": "unsupported operand type(s) for +: 'int' and 'str'",
     "output_type": "error",
     "traceback": [
      "\u001b[1;31m---------------------------------------------------------------------------\u001b[0m",
      "\u001b[1;31mTypeError\u001b[0m                                 Traceback (most recent call last)",
      "Input \u001b[1;32mIn [4]\u001b[0m, in \u001b[0;36m<cell line: 1>\u001b[1;34m()\u001b[0m\n\u001b[1;32m----> 1\u001b[0m \u001b[38;5;241;43m6\u001b[39;49m\u001b[43m \u001b[49m\u001b[38;5;241;43m+\u001b[39;49m\u001b[43m \u001b[49m\u001b[38;5;124;43m'\u001b[39;49m\u001b[38;5;124;43ma\u001b[39;49m\u001b[38;5;124;43m'\u001b[39;49m\n",
      "\u001b[1;31mTypeError\u001b[0m: unsupported operand type(s) for +: 'int' and 'str'"
     ]
    }
   ],
   "source": [
    "6 + 'a'"
   ]
  },
  {
   "cell_type": "markdown",
   "id": "e72b8052",
   "metadata": {},
   "source": [
    "b)  Referring to the 12th item of a list that has only 10 items\n",
    " \n",
    " IndexError "
   ]
  },
  {
   "cell_type": "code",
   "execution_count": 7,
   "id": "1ac771e4",
   "metadata": {},
   "outputs": [
    {
     "ename": "IndexError",
     "evalue": "list index out of range",
     "output_type": "error",
     "traceback": [
      "\u001b[1;31m---------------------------------------------------------------------------\u001b[0m",
      "\u001b[1;31mIndexError\u001b[0m                                Traceback (most recent call last)",
      "Input \u001b[1;32mIn [7]\u001b[0m, in \u001b[0;36m<cell line: 2>\u001b[1;34m()\u001b[0m\n\u001b[0;32m      1\u001b[0m \u001b[38;5;28mlist\u001b[39m \u001b[38;5;241m=\u001b[39m [\u001b[38;5;241m3\u001b[39m, \u001b[38;5;241m5\u001b[39m, \u001b[38;5;241m9\u001b[39m, \u001b[38;5;241m3\u001b[39m, \u001b[38;5;241m4\u001b[39m, \u001b[38;5;241m2\u001b[39m,\u001b[38;5;241m3\u001b[39m] \n\u001b[1;32m----> 2\u001b[0m \u001b[38;5;28mprint\u001b[39m(\u001b[38;5;28;43mlist\u001b[39;49m\u001b[43m \u001b[49m\u001b[43m[\u001b[49m\u001b[38;5;241;43m10\u001b[39;49m\u001b[43m]\u001b[49m)\n",
      "\u001b[1;31mIndexError\u001b[0m: list index out of range"
     ]
    }
   ],
   "source": [
    "list = [3, 5, 9, 3, 4, 2,3] \n",
    "print(list [10])"
   ]
  },
  {
   "cell_type": "markdown",
   "id": "16054b33",
   "metadata": {},
   "source": [
    " c) Using a value that is out of range for a function’s input, such as calling math.sqrt(-1.0)\n",
    " \n",
    " ValueError "
   ]
  },
  {
   "cell_type": "code",
   "execution_count": 6,
   "id": "956c8c0b",
   "metadata": {},
   "outputs": [
    {
     "ename": "ValueError",
     "evalue": "math domain error",
     "output_type": "error",
     "traceback": [
      "\u001b[1;31m---------------------------------------------------------------------------\u001b[0m",
      "\u001b[1;31mValueError\u001b[0m                                Traceback (most recent call last)",
      "Input \u001b[1;32mIn [6]\u001b[0m, in \u001b[0;36m<cell line: 2>\u001b[1;34m()\u001b[0m\n\u001b[0;32m      1\u001b[0m \u001b[38;5;28;01mimport\u001b[39;00m \u001b[38;5;21;01mmath\u001b[39;00m\n\u001b[1;32m----> 2\u001b[0m \u001b[43mmath\u001b[49m\u001b[38;5;241;43m.\u001b[39;49m\u001b[43msqrt\u001b[49m\u001b[43m(\u001b[49m\u001b[38;5;241;43m-\u001b[39;49m\u001b[38;5;241;43m1.0\u001b[39;49m\u001b[43m)\u001b[49m\n",
      "\u001b[1;31mValueError\u001b[0m: math domain error"
     ]
    }
   ],
   "source": [
    "import math\n",
    "math.sqrt(-1.0)"
   ]
  },
  {
   "cell_type": "markdown",
   "id": "10999020",
   "metadata": {},
   "source": [
    "d)  Using an undeclared variable, such as print(x) when x has not been defined\n",
    "\n",
    " NameError "
   ]
  },
  {
   "cell_type": "code",
   "execution_count": 10,
   "id": "05ff6702",
   "metadata": {},
   "outputs": [
    {
     "ename": "NameError",
     "evalue": "name 'world' is not defined",
     "output_type": "error",
     "traceback": [
      "\u001b[1;31m---------------------------------------------------------------------------\u001b[0m",
      "\u001b[1;31mNameError\u001b[0m                                 Traceback (most recent call last)",
      "Input \u001b[1;32mIn [10]\u001b[0m, in \u001b[0;36m<cell line: 1>\u001b[1;34m()\u001b[0m\n\u001b[1;32m----> 1\u001b[0m \u001b[38;5;28mprint\u001b[39m(\u001b[43mworld\u001b[49m)\n",
      "\u001b[1;31mNameError\u001b[0m: name 'world' is not defined"
     ]
    }
   ],
   "source": [
    "print(world)\n"
   ]
  },
  {
   "cell_type": "markdown",
   "id": "e7304661",
   "metadata": {},
   "source": [
    "e) Trying to open a file that does not exist, such as mistyping the file name or looking in the wrong directory.\n",
    "\n",
    " FileNotFoundError"
   ]
  },
  {
   "cell_type": "code",
   "execution_count": 11,
   "id": "881404b4",
   "metadata": {},
   "outputs": [
    {
     "ename": "FileNotFoundError",
     "evalue": "[Errno 2] No such file or directory: 'file.txt'",
     "output_type": "error",
     "traceback": [
      "\u001b[1;31m---------------------------------------------------------------------------\u001b[0m",
      "\u001b[1;31mFileNotFoundError\u001b[0m                         Traceback (most recent call last)",
      "Input \u001b[1;32mIn [11]\u001b[0m, in \u001b[0;36m<cell line: 1>\u001b[1;34m()\u001b[0m\n\u001b[1;32m----> 1\u001b[0m n \u001b[38;5;241m=\u001b[39m \u001b[38;5;28;43mopen\u001b[39;49m\u001b[43m(\u001b[49m\u001b[38;5;124;43m\"\u001b[39;49m\u001b[38;5;124;43mfile.txt\u001b[39;49m\u001b[38;5;124;43m\"\u001b[39;49m\u001b[43m,\u001b[49m\u001b[43m \u001b[49m\u001b[38;5;124;43m\"\u001b[39;49m\u001b[38;5;124;43mr\u001b[39;49m\u001b[38;5;124;43m\"\u001b[39;49m\u001b[43m)\u001b[49m\n\u001b[0;32m      2\u001b[0m \u001b[38;5;28mprint\u001b[39m(n\u001b[38;5;241m.\u001b[39mread())\n",
      "\u001b[1;31mFileNotFoundError\u001b[0m: [Errno 2] No such file or directory: 'file.txt'"
     ]
    }
   ],
   "source": [
    "n = open(\"file.txt\", \"r\")\n",
    "print(n.read())"
   ]
  },
  {
   "cell_type": "markdown",
   "id": "1813f682",
   "metadata": {},
   "source": [
    "# Q 10 Encryption is the process of hiding the meaning of a text by substituting letters in the message with other letters, according to some system. If the process is successful, no one but the intended recipient can understand the encrypted message. Cryptanalysis refers to attempts to undo the encryption, even if some details of the encryption are unknown. The first step of cryptanalysis is often to build up a table of letter frequencies in the encrypted text. Assume that the string letters is already defined as 'abcdefghijklmnopqrstuvwxyz'. Write a function called frequencies() that takes a string as its only parameter, and returns a list of integers, showing the number of times each character appears in the text. Your function may ignore any characters that are not in letters."
   ]
  },
  {
   "cell_type": "code",
   "execution_count": null,
   "id": "f0984bd7",
   "metadata": {},
   "outputs": [],
   "source": [
    "def frequencies(message):\n",
    "    n = list(message)\n",
    "    xlist=[]\n",
    "    for item in n:\n",
    "        count = n.count(item)\n",
    "        xlist.append(itemscount)\n",
    "    print (xlist)\n",
    "    \n",
    "print(frequencies('abcdefghijklmnopqrstuvwxyz'))\n",
    "print (frequencies('The Quick Red Fox Got Bored And Went Home.'))\n",
    "print (frequencies('apple'))"
   ]
  },
  {
   "cell_type": "code",
   "execution_count": null,
   "id": "aed22a25",
   "metadata": {},
   "outputs": [],
   "source": []
  }
 ],
 "metadata": {
  "kernelspec": {
   "display_name": "Python 3 (ipykernel)",
   "language": "python",
   "name": "python3"
  },
  "language_info": {
   "codemirror_mode": {
    "name": "ipython",
    "version": 3
   },
   "file_extension": ".py",
   "mimetype": "text/x-python",
   "name": "python",
   "nbconvert_exporter": "python",
   "pygments_lexer": "ipython3",
   "version": "3.9.12"
  }
 },
 "nbformat": 4,
 "nbformat_minor": 5
}
